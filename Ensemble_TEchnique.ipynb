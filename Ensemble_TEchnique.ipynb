{
 "cells": [
  {
   "cell_type": "markdown",
   "id": "857ef80c",
   "metadata": {},
   "source": [
    "### Q1. Can we use Bagging for regression problems?\n",
    "\n",
    "**Answer:** Yes, Bagging can be used for regression problems using estimators like DecisionTreeRegressor."
   ]
  },
  {
   "cell_type": "markdown",
   "id": "38d41184",
   "metadata": {},
   "source": [
    "### Q2. What is the difference between multiple model training and single model training?\n",
    "\n",
    "**Answer:** Single model training uses one algorithm, while multiple model training combines several models to improve performance."
   ]
  },
  {
   "cell_type": "markdown",
   "id": "78ec80b3",
   "metadata": {},
   "source": [
    "### Q3. Explain the concept of feature randomness in Random Forest.\n",
    "\n",
    "**Answer:** Feature randomness means each tree in the forest is trained on a random subset of features, increasing diversity."
   ]
  },
  {
   "cell_type": "markdown",
   "id": "ec5c4801",
   "metadata": {},
   "source": [
    "### Q4. What is OOB (Out-of-Bag) Score?\n",
    "\n",
    "**Answer:** OOB score is a performance metric calculated using samples not included in the bootstrap sample for a tree."
   ]
  },
  {
   "cell_type": "markdown",
   "id": "c0d0aa00",
   "metadata": {},
   "source": [
    "### Q5. How can you measure the importance of features in a Random Forest model?\n",
    "\n",
    "**Answer:** By checking how much each feature decreases impurity across the trees, or using permutation importance."
   ]
  },
  {
   "cell_type": "markdown",
   "id": "415bceda",
   "metadata": {},
   "source": [
    "### Q6. Explain the working principle of a Bagging Classifier.\n",
    "\n",
    "**Answer:** It trains multiple classifiers on different subsets of the data and aggregates their predictions."
   ]
  },
  {
   "cell_type": "markdown",
   "id": "65b2e9a1",
   "metadata": {},
   "source": [
    "### Q7. How do you evaluate a Bagging Classifier’s performance?\n",
    "\n",
    "**Answer:** Using metrics like accuracy, precision, recall, F1-score, and cross-validation."
   ]
  },
  {
   "cell_type": "markdown",
   "id": "ac0ec78f",
   "metadata": {},
   "source": [
    "### Q8. How does a Bagging Regressor work?\n",
    "\n",
    "**Answer:** It fits base regressors on random subsets and averages their outputs."
   ]
  },
  {
   "cell_type": "markdown",
   "id": "17086504",
   "metadata": {},
   "source": [
    "### Q9. What is the main advantage of ensemble techniques?\n",
    "\n",
    "**Answer:** They improve accuracy and robustness by combining multiple models."
   ]
  },
  {
   "cell_type": "markdown",
   "id": "bbc30330",
   "metadata": {},
   "source": [
    "### Q10. What is the main challenge of ensemble methods?\n",
    "\n",
    "**Answer:** They can be computationally expensive and hard to interpret."
   ]
  },
  {
   "cell_type": "markdown",
   "id": "f7eaded2",
   "metadata": {},
   "source": [
    "### Q11. Explain the key idea behind ensemble techniques.\n",
    "\n",
    "**Answer:** Combining multiple models to achieve better generalization than individual models."
   ]
  },
  {
   "cell_type": "markdown",
   "id": "bf57096f",
   "metadata": {},
   "source": [
    "### Q12. What is a Random Forest Classifier?\n",
    "\n",
    "**Answer:** An ensemble of decision trees trained using bagging and feature randomness for classification."
   ]
  },
  {
   "cell_type": "markdown",
   "id": "456b5d44",
   "metadata": {},
   "source": [
    "### Q13. What are the main types of ensemble techniques?\n",
    "\n",
    "**Answer:** Bagging, Boosting, and Stacking."
   ]
  },
  {
   "cell_type": "markdown",
   "id": "7d6dcd72",
   "metadata": {},
   "source": [
    "### Q14. What is ensemble learning in machine learning?\n",
    "\n",
    "**Answer:** A technique where multiple models are combined to improve performance."
   ]
  },
  {
   "cell_type": "markdown",
   "id": "be5cdab3",
   "metadata": {},
   "source": [
    "### Q15. When should we avoid using ensemble methods?\n",
    "\n",
    "**Answer:** When interpretability is crucial or the dataset is very small."
   ]
  },
  {
   "cell_type": "markdown",
   "id": "a9f4fe71",
   "metadata": {},
   "source": [
    "### Q16. How does Bagging help in reducing overfitting?\n",
    "\n",
    "**Answer:** By averaging predictions from diverse models, it reduces variance."
   ]
  },
  {
   "cell_type": "markdown",
   "id": "9734961d",
   "metadata": {},
   "source": [
    "### Q17. Why is Random Forest better than a single Decision Tree?\n",
    "\n",
    "**Answer:** It reduces overfitting and increases accuracy by combining multiple trees."
   ]
  },
  {
   "cell_type": "markdown",
   "id": "0f598382",
   "metadata": {},
   "source": [
    "### Q18. What is the role of bootstrap sampling in Bagging?\n",
    "\n",
    "**Answer:** Bootstrap sampling creates diverse datasets for training each base model."
   ]
  },
  {
   "cell_type": "markdown",
   "id": "46d81f42",
   "metadata": {},
   "source": [
    "### Q19. What are some real-world applications of ensemble techniques?\n",
    "\n",
    "**Answer:** Spam detection, fraud detection, medical diagnosis, and recommendation systems."
   ]
  },
  {
   "cell_type": "markdown",
   "id": "d41eac7e",
   "metadata": {},
   "source": [
    "### Q20. What is the difference between Bagging and Boosting?\n",
    "\n",
    "**Answer:** Bagging builds models independently in parallel; boosting builds sequentially by correcting previous errors."
   ]
  },
  {
   "cell_type": "code",
   "execution_count": 2,
   "id": "ff9bb74d",
   "metadata": {},
   "outputs": [
    {
     "name": "stdout",
     "output_type": "stream",
     "text": [
      "Accuracy: 1.0\n"
     ]
    }
   ],
   "source": [
    "# Q1. Train a Bagging Classifier using Decision Trees on a sample dataset\n",
    "from sklearn.ensemble import BaggingClassifier\n",
    "from sklearn.tree import DecisionTreeClassifier\n",
    "from sklearn.datasets import load_iris\n",
    "from sklearn.model_selection import train_test_split\n",
    "from sklearn.metrics import accuracy_score\n",
    "\n",
    "X, y = load_iris(return_X_y=True)\n",
    "model = BaggingClassifier(estimator=DecisionTreeClassifier(), n_estimators=10, random_state=42)\n",
    "X_train, X_test, y_train, y_test = train_test_split(X, y, random_state=42)\n",
    "\n",
    "model.fit(X_train, y_train)\n",
    "preds = model.predict(X_test)\n",
    "print(\"Accuracy:\", accuracy_score(y_test, preds))"
   ]
  },
  {
   "cell_type": "code",
   "execution_count": 4,
   "id": "488922f0",
   "metadata": {},
   "outputs": [
    {
     "name": "stdout",
     "output_type": "stream",
     "text": [
      "MSE: 5403.477477477478\n"
     ]
    }
   ],
   "source": [
    "# Q2. Train a Bagging Regressor using Decision Trees and evaluate using MSE\n",
    "from sklearn.ensemble import BaggingRegressor\n",
    "from sklearn.tree import DecisionTreeRegressor\n",
    "from sklearn.datasets import load_diabetes\n",
    "from sklearn.metrics import mean_squared_error\n",
    "\n",
    "X, y = load_diabetes(return_X_y=True)\n",
    "X_train, X_test, y_train, y_test = train_test_split(X, y, random_state=42)\n",
    "\n",
    "model = BaggingClassifier(estimator=DecisionTreeClassifier(), n_estimators=10, random_state=42)\n",
    "model.fit(X_train, y_train)\n",
    "preds = model.predict(X_test)\n",
    "print(\"MSE:\", mean_squared_error(y_test, preds))"
   ]
  },
  {
   "cell_type": "code",
   "execution_count": 5,
   "id": "1978c895",
   "metadata": {},
   "outputs": [
    {
     "name": "stdout",
     "output_type": "stream",
     "text": [
      "Feature Importances: [0.03971058 0.01460399 0.05314639 0.04277978 0.00816485 0.01140166\n",
      " 0.08321459 0.0902992  0.00443533 0.00443395 0.01951684 0.00459978\n",
      " 0.00868228 0.04355077 0.00464415 0.0036549  0.00701442 0.00504716\n",
      " 0.00371411 0.00658253 0.08127686 0.01649014 0.07138828 0.12319232\n",
      " 0.01033481 0.01580059 0.03174022 0.17229521 0.01310266 0.00518165]\n"
     ]
    }
   ],
   "source": [
    "# Q3. Train a Random Forest Classifier on the Breast Cancer dataset and print feature importance\n",
    "from sklearn.ensemble import RandomForestClassifier\n",
    "from sklearn.datasets import load_breast_cancer\n",
    "\n",
    "X, y = load_breast_cancer(return_X_y=True)\n",
    "X_train, X_test, y_train, y_test = train_test_split(X, y, random_state=42)\n",
    "\n",
    "model = RandomForestClassifier(random_state=42)\n",
    "model.fit(X_train, y_train)\n",
    "importances = model.feature_importances_\n",
    "print(\"Feature Importances:\", importances)"
   ]
  },
  {
   "cell_type": "code",
   "execution_count": 6,
   "id": "b3a5e51a",
   "metadata": {},
   "outputs": [
    {
     "name": "stdout",
     "output_type": "stream",
     "text": [
      "Random Forest Accuracy: 0.965034965034965\n",
      "Decision Tree Accuracy: 0.951048951048951\n"
     ]
    }
   ],
   "source": [
    "# Q4. Train a Random Forest Regressor and compare its performance with a single Decision Tree\n",
    "from sklearn.metrics import r2_score\n",
    "\n",
    "rf = RandomForestClassifier(random_state=42)\n",
    "rf.fit(X_train, y_train)\n",
    "rf_preds = rf.predict(X_test)\n",
    "\n",
    "dt = DecisionTreeClassifier(random_state=42)\n",
    "dt.fit(X_train, y_train)\n",
    "dt_preds = dt.predict(X_test)\n",
    "\n",
    "print(\"Random Forest Accuracy:\", accuracy_score(y_test, rf_preds))\n",
    "print(\"Decision Tree Accuracy:\", accuracy_score(y_test, dt_preds))"
   ]
  },
  {
   "cell_type": "code",
   "execution_count": 7,
   "id": "4bdd71de",
   "metadata": {},
   "outputs": [
    {
     "name": "stdout",
     "output_type": "stream",
     "text": [
      "OOB Score: 0.960093896713615\n"
     ]
    }
   ],
   "source": [
    "# Q5. Compute the Out-of-Bag (OOB) Score for a Random Forest Classifier\n",
    "rf = RandomForestClassifier(oob_score=True, random_state=42)\n",
    "rf.fit(X_train, y_train)\n",
    "print(\"OOB Score:\", rf.oob_score_)"
   ]
  },
  {
   "cell_type": "code",
   "execution_count": 9,
   "id": "c12b5a26",
   "metadata": {},
   "outputs": [
    {
     "name": "stdout",
     "output_type": "stream",
     "text": [
      "Accuracy: 0.951048951048951\n"
     ]
    }
   ],
   "source": [
    "# Q6. Train a Bagging Classifier using SVM as a base estimator and print accuracy\n",
    "from sklearn.svm import SVC\n",
    "model = BaggingClassifier(estimator=SVC(), n_estimators=10, random_state=42)\n",
    "model.fit(X_train, y_train)\n",
    "preds = model.predict(X_test)\n",
    "print(\"Accuracy:\", accuracy_score(y_test, preds))\n"
   ]
  },
  {
   "cell_type": "code",
   "execution_count": 10,
   "id": "410c9aba",
   "metadata": {},
   "outputs": [
    {
     "name": "stdout",
     "output_type": "stream",
     "text": [
      "Accuracy with 10 trees: 0.951048951048951\n",
      "Accuracy with 50 trees: 0.972027972027972\n",
      "Accuracy with 100 trees: 0.965034965034965\n"
     ]
    }
   ],
   "source": [
    "# Q7. Train a Random Forest Classifier with different numbers of trees and compare accuracy\n",
    "for n in [10, 50, 100]:\n",
    "    model = RandomForestClassifier(n_estimators=n, random_state=42)\n",
    "    model.fit(X_train, y_train)\n",
    "    preds = model.predict(X_test)\n",
    "    print(f\"Accuracy with {n} trees:\", accuracy_score(y_test, preds))\n"
   ]
  },
  {
   "cell_type": "code",
   "execution_count": 15,
   "metadata": {},
   "outputs": [
    {
     "name": "stdout",
     "output_type": "stream",
     "text": [
      "AUC Score: 0.99812734082397\n"
     ]
    }
   ],
   "source": [
    "# Q8. Train a Bagging Classifier using Logistic Regression as a base estimator and print AUC score\n",
    "from sklearn.linear_model import LogisticRegression\n",
    "from sklearn.metrics import roc_auc_score\n",
    "import warnings \n",
    "warnings.filterwarnings('ignore')\n",
    "model = BaggingClassifier(estimator=LogisticRegression(max_iter=1000), n_estimators=10, random_state=42)\n",
    "model.fit(X_train, y_train)\n",
    "probs = model.predict_proba(X_test)\n",
    "print(\"AUC Score:\", roc_auc_score(y_test, probs[:, 1]))\n"
   ]
  },
  {
   "cell_type": "code",
   "execution_count": 19,
   "id": "7da73bb2",
   "metadata": {},
   "outputs": [
    {
     "name": "stdout",
     "output_type": "stream",
     "text": [
      "Feature Importances:\n",
      "Feature 0: 0.0602\n",
      "Feature 1: 0.0099\n",
      "Feature 2: 0.3432\n",
      "Feature 3: 0.1028\n",
      "Feature 4: 0.0538\n",
      "Feature 5: 0.0614\n",
      "Feature 6: 0.0523\n",
      "Feature 7: 0.0272\n",
      "Feature 8: 0.2223\n",
      "Feature 9: 0.0669\n"
     ]
    }
   ],
   "source": [
    "# Q9. Train a Random Forest Regressor and analyze feature importance scores\n",
    "\n",
    "from sklearn.ensemble import RandomForestRegressor\n",
    "\n",
    "X, y = load_diabetes(return_X_y=True)\n",
    "X_train, X_test, y_train, y_test = train_test_split(X, y, random_state=42)\n",
    "\n",
    "regressor = RandomForestRegressor(n_estimators=100, random_state=42)\n",
    "regressor.fit(X_train, y_train)\n",
    "\n",
    "importances = regressor.feature_importances_\n",
    "\n",
    "print(\"Feature Importances:\")\n",
    "for i, score in enumerate(importances):\n",
    "    print(f\"Feature {i}: {score:.4f}\")\n"
   ]
  },
  {
   "cell_type": "code",
   "execution_count": 21,
   "metadata": {},
   "outputs": [
    {
     "name": "stdout",
     "output_type": "stream",
     "text": [
      "Bagging Accuracy: 0.0\n",
      "Random Forest Accuracy: 0.0\n"
     ]
    }
   ],
   "source": [
    "# Q10. Train an ensemble model using both Bagging and Random Forest and compare accuracy\n",
    "bag_model = BaggingClassifier(estimator=DecisionTreeClassifier(), n_estimators=10, random_state=42)\n",
    "rf_model = RandomForestClassifier(n_estimators=100, random_state=42)\n",
    "bag_model.fit(X_train, y_train)\n",
    "rf_model.fit(X_train, y_train)\n",
    "print(\"Bagging Accuracy:\", accuracy_score(y_test, bag_model.predict(X_test)))\n",
    "print(\"Random Forest Accuracy:\", accuracy_score(y_test, rf_model.predict(X_test)))\n"
   ]
  },
  {
   "cell_type": "code",
   "execution_count": 22,
   "id": "9ef7a825",
   "metadata": {},
   "outputs": [
    {
     "name": "stdout",
     "output_type": "stream",
     "text": [
      "Best Parameters: {'max_depth': 10, 'min_samples_split': 5, 'n_estimators': 50}\n",
      "Best Accuracy: 0.012121212121212121\n"
     ]
    }
   ],
   "source": [
    "# Q11. Train a Random Forest Classifier and tune hyperparameters using GridSearchCV\n",
    "from sklearn.model_selection import GridSearchCV\n",
    "param_grid = {\n",
    "    'n_estimators': [50, 100],\n",
    "    'max_depth': [None, 5, 10],\n",
    "    'min_samples_split': [2, 5]\n",
    "}\n",
    "grid = GridSearchCV(RandomForestClassifier(random_state=42), param_grid, cv=3)\n",
    "grid.fit(X_train, y_train)\n",
    "print(\"Best Parameters:\", grid.best_params_)\n",
    "print(\"Best Accuracy:\", grid.best_score_)\n"
   ]
  },
  {
   "cell_type": "code",
   "execution_count": 23,
   "metadata": {},
   "outputs": [
    {
     "name": "stdout",
     "output_type": "stream",
     "text": [
      "MSE with 5 estimators: 3432.8677477477477\n",
      "MSE with 10 estimators: 3333.257117117116\n",
      "MSE with 20 estimators: 3190.5734684684676\n"
     ]
    }
   ],
   "source": [
    "# Q12. Train a Bagging Regressor with different numbers of base estimators and compare performance\n",
    "for n in [5, 10, 20]:\n",
    "    model = BaggingRegressor(n_estimators=n, random_state=42)\n",
    "    model.fit(X_train, y_train)\n",
    "    preds = model.predict(X_test)\n",
    "    print(f\"MSE with {n} estimators:\", mean_squared_error(y_test, preds))\n"
   ]
  },
  {
   "cell_type": "code",
   "execution_count": 24,
   "id": "4625da4a",
   "metadata": {},
   "outputs": [
    {
     "name": "stdout",
     "output_type": "stream",
     "text": [
      "Number of misclassified samples: 111\n"
     ]
    }
   ],
   "source": [
    "# Q13. Train a Random Forest Classifier and analyze misclassified samples\n",
    "model = RandomForestClassifier(random_state=42)\n",
    "model.fit(X_train, y_train)\n",
    "preds = model.predict(X_test)\n",
    "misclassified = X_test[preds != y_test]\n",
    "print(\"Number of misclassified samples:\", len(misclassified))\n"
   ]
  },
  {
   "cell_type": "code",
   "execution_count": 26,
   "metadata": {},
   "outputs": [
    {
     "name": "stdout",
     "output_type": "stream",
     "text": [
      "Decision Tree Accuracy: 0.009009009009009009\n",
      "Bagging Classifier Accuracy: 0.0\n"
     ]
    }
   ],
   "source": [
    "# Q14. Train a Bagging Classifier and compare its performance with a single Decision Tree Classifier\n",
    "dt = DecisionTreeClassifier(random_state=42)\n",
    "bag = BaggingClassifier(estimator=DecisionTreeClassifier(), n_estimators=10, random_state=42)\n",
    "dt.fit(X_train, y_train)\n",
    "bag.fit(X_train, y_train)\n",
    "print(\"Decision Tree Accuracy:\", dt.score(X_test, y_test))\n",
    "print(\"Bagging Classifier Accuracy:\", bag.score(X_test, y_test))\n"
   ]
  },
  {
   "cell_type": "code",
   "execution_count": 27,
   "id": "abb819c3",
   "metadata": {},
   "outputs": [
    {
     "data": {
      "image/png": "[encoded data removed]",
      "text/plain": [
       "<Figure size 640x480 with 2 Axes>"
      ]
     },
     "metadata": {},
     "output_type": "display_data"
    }
   ],
   "source": [
    "# Q15. Train a Random Forest Classifier and visualize the confusion matrix\n",
    "from sklearn.metrics import confusion_matrix, ConfusionMatrixDisplay\n",
    "import matplotlib.pyplot as plt\n",
    "model = RandomForestClassifier(random_state=42)\n",
    "model.fit(X_train, y_train)\n",
    "preds = model.predict(X_test)\n",
    "cm = confusion_matrix(y_test, preds)\n",
    "disp = ConfusionMatrixDisplay(confusion_matrix=cm)\n",
    "disp.plot()\n",
    "plt.show()\n"
   ]
  },
  {
   "cell_type": "code",
   "execution_count": 28,
   "metadata": {},
   "outputs": [
    {
     "name": "stdout",
     "output_type": "stream",
     "text": [
      "Stacking Classifier Accuracy: 0.0\n"
     ]
    }
   ],
   "source": [
    "# Q16. Train a Stacking Classifier using Decision Trees, SVM, and Logistic Regression, and compare accuracy\n",
    "from sklearn.ensemble import StackingClassifier\n",
    "estimators = [\n",
    "    ('dt', DecisionTreeClassifier()),\n",
    "    ('svm', SVC(probability=True))\n",
    "]\n",
    "stack = StackingClassifier(estimators=estimators, final_estimator=LogisticRegression())\n",
    "stack.fit(X_train, y_train)\n",
    "print(\"Stacking Classifier Accuracy:\", stack.score(X_test, y_test))\n"
   ]
  },
  {
   "cell_type": "code",
   "execution_count": 29,
   "id": "a3bd007e",
   "metadata": {},
   "outputs": [
    {
     "name": "stdout",
     "output_type": "stream",
     "text": [
      "Top 5 Features: [2 8 3 9 4]\n"
     ]
    }
   ],
   "source": [
    "# Q17. Train a Random Forest Classifier and print the top 5 most important features\n",
    "model = RandomForestClassifier(random_state=42)\n",
    "model.fit(X_train, y_train)\n",
    "importances = model.feature_importances_\n",
    "top5 = importances.argsort()[-5:][::-1]\n",
    "print(\"Top 5 Features:\", top5)\n"
   ]
  },
  {
   "cell_type": "code",
   "execution_count": 30,
   "metadata": {},
   "outputs": [
    {
     "name": "stdout",
     "output_type": "stream",
     "text": [
      "Precision: 0.0\n",
      "Recall: 0.0\n",
      "F1 Score: 0.0\n"
     ]
    }
   ],
   "source": [
    "# Q18. Train a Bagging Classifier and evaluate performance using Precision, Recall, and F1-score\n",
    "from sklearn.metrics import precision_score, recall_score, f1_score\n",
    "model = BaggingClassifier(n_estimators=10, random_state=42)\n",
    "model.fit(X_train, y_train)\n",
    "preds = model.predict(X_test)\n",
    "print(\"Precision:\", precision_score(y_test, preds, average='macro'))\n",
    "print(\"Recall:\", recall_score(y_test, preds, average='macro'))\n",
    "print(\"F1 Score:\", f1_score(y_test, preds, average='macro'))\n"
   ]
  },
  {
   "cell_type": "code",
   "execution_count": 31,
   "id": "a44e0ca1",
   "metadata": {},
   "outputs": [
    {
     "name": "stdout",
     "output_type": "stream",
     "text": [
      "Max Depth None: Accuracy = 0.0\n",
      "Max Depth 5: Accuracy = 0.0\n",
      "Max Depth 10: Accuracy = 0.0\n",
      "Max Depth 15: Accuracy = 0.0\n"
     ]
    }
   ],
   "source": [
    "# Q19. Train a Random Forest Classifier and analyze the effect of max_depth on accuracy\n",
    "for depth in [None, 5, 10, 15]:\n",
    "    model = RandomForestClassifier(max_depth=depth, random_state=42)\n",
    "    model.fit(X_train, y_train)\n",
    "    print(f\"Max Depth {depth}: Accuracy = {model.score(X_test, y_test)}\")\n"
   ]
  },
  {
   "cell_type": "code",
   "execution_count": 33,
   "metadata": {},
   "outputs": [
    {
     "name": "stdout",
     "output_type": "stream",
     "text": [
      "DecisionTreeRegressor MSE: 3333.257117117116\n",
      "KNeighborsRegressor MSE: 3009.999596396395\n"
     ]
    }
   ],
   "source": [
    "# Q20. Train a Bagging Regressor using different base estimators (DecisionTree and KNeighbors) and compare performance\n",
    "from sklearn.neighbors import KNeighborsRegressor\n",
    "for base in [DecisionTreeRegressor(), KNeighborsRegressor()]:\n",
    "    model = BaggingRegressor(estimator=base, n_estimators=10, random_state=42)\n",
    "    model.fit(X_train, y_train)\n",
    "    preds = model.predict(X_test)\n",
    "    print(f\"{base.__class__.__name__} MSE:\", mean_squared_error(y_test, preds))\n"
   ]
  },
  {
   "cell_type": "code",
   "execution_count": 36,
   "id": "06db9046",
   "metadata": {},
   "outputs": [
    {
     "name": "stdout",
     "output_type": "stream",
     "text": [
      "ROC-AUC Score: 0.9962546816479401\n"
     ]
    }
   ],
   "source": [
    "# Q21. Train a Random Forest Classifier and evaluate its performance using ROC-AUC Score\n",
    "\n",
    "X, y = load_breast_cancer(return_X_y=True)\n",
    "X_train, X_test, y_train, y_test = train_test_split(X, y, random_state=42)\n",
    "\n",
    "model = RandomForestClassifier(n_estimators=100, random_state=42)\n",
    "model.fit(X_train, y_train)\n",
    "\n",
    "probs = model.predict_proba(X_test)\n",
    "\n",
    "auc_score = roc_auc_score(y_test, probs[:, 1])\n",
    "print(\"ROC-AUC Score:\", auc_score)"
   ]
  },
  {
   "cell_type": "code",
   "execution_count": 37,
   "metadata": {},
   "outputs": [
    {
     "name": "stdout",
     "output_type": "stream",
     "text": [
      "Cross-Validation Scores: [0.92982456 0.93859649 0.97368421 0.93859649 0.97345133]\n",
      "Average Score: 0.9508306163639186\n"
     ]
    }
   ],
   "source": [
    "# Q22. Train a Bagging Classifier and evaluate its performance using cross-validation\n",
    "from sklearn.model_selection import cross_val_score\n",
    "model = BaggingClassifier(n_estimators=10, random_state=42)\n",
    "scores = cross_val_score(model, X, y, cv=5)\n",
    "print(\"Cross-Validation Scores:\", scores)\n",
    "print(\"Average Score:\", scores.mean())\n"
   ]
  },
  {
   "cell_type": "code",
   "execution_count": 40,
   "id": "e0b8c243",
   "metadata": {},
   "outputs": [
    {
     "data": {
      "image/png": "[encoded data removed]",
      "text/plain": [
       "<Figure size 640x480 with 1 Axes>"
      ]
     },
     "metadata": {},
     "output_type": "display_data"
    }
   ],
   "source": [
    "# Q23. Train a Random Forest Classifier and plot the Precision-Recall curve\n",
    "\n",
    "X, y = load_breast_cancer(return_X_y=True)\n",
    "X_train, X_test, y_train, y_test = train_test_split(X, y, random_state=42)\n",
    "\n",
    "model = RandomForestClassifier(n_estimators=100, random_state=42)\n",
    "model.fit(X_train, y_train)\n",
    "\n",
    "probs = model.predict_proba(X_test)\n",
    "\n",
    "precision, recall, _ = precision_recall_curve(y_test, probs[:, 1])\n",
    "\n",
    "plt.plot(recall, precision, marker='.')\n",
    "plt.xlabel('Recall')\n",
    "plt.ylabel('Precision')\n",
    "plt.title('Precision-Recall Curve')\n",
    "plt.grid()\n",
    "plt.show()\n"
   ]
  },
  {
   "cell_type": "code",
   "execution_count": 39,
   "metadata": {},
   "outputs": [
    {
     "name": "stdout",
     "output_type": "stream",
     "text": [
      "Stacking Classifier Accuracy: 0.9790209790209791\n"
     ]
    }
   ],
   "source": [
    "# Q24. Train a Stacking Classifier with Random Forest and Logistic Regression and compare accuracy\n",
    "stack = StackingClassifier(\n",
    "    estimators=[('rf', RandomForestClassifier()), ('lr', LogisticRegression())],\n",
    "    final_estimator=LogisticRegression()\n",
    ")\n",
    "stack.fit(X_train, y_train)\n",
    "print(\"Stacking Classifier Accuracy:\", stack.score(X_test, y_test))\n"
   ]
  },
  {
   "cell_type": "code",
   "execution_count": 41,
   "id": "2a9d9334",
   "metadata": {},
   "outputs": [
    {
     "name": "stdout",
     "output_type": "stream",
     "text": [
      "Bootstrap = True: MSE = 0.040489510489510494\n",
      "Bootstrap = False: MSE = 0.0486013986013986\n"
     ]
    }
   ],
   "source": [
    "# Q25. Train a Bagging Regressor with different levels of bootstrap samples and compare performance\n",
    "for bootstrap in [True, False]:\n",
    "    model = BaggingRegressor(n_estimators=10, bootstrap=bootstrap, random_state=42)\n",
    "    model.fit(X_train, y_train)\n",
    "    preds = model.predict(X_test)\n",
    "    print(f\"Bootstrap = {bootstrap}: MSE = {mean_squared_error(y_test, preds)}\")\n"
   ]
  },
  {
   "cell_type": "code",
   "execution_count": null,
   "id": "14ce8cde",
   "metadata": {},
   "outputs": [],
   "source": []
  }
 ],
 "metadata": {
  "kernelspec": {
   "display_name": "Python 3",
   "language": "python",
   "name": "python3"
  },
  "language_info": {
   "codemirror_mode": {
    "name": "ipython",
    "version": 3
   },
   "file_extension": ".py",
   "mimetype": "text/x-python",
   "name": "python",
   "nbconvert_exporter": "python",
   "pygments_lexer": "ipython3",
   "version": "3.13.2"
  }
 },
 "nbformat": 4,
 "nbformat_minor": 5
}
